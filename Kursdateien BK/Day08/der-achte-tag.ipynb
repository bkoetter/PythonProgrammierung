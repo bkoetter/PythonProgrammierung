{
 "cells": [
  {
   "cell_type": "code",
   "execution_count": 7,
   "metadata": {
    "collapsed": true
   },
   "outputs": [
    {
     "name": "stdout",
     "output_type": "stream",
     "text": [
      "40\n",
      "[20, 30, 40, 50]\n",
      "[20, 40]\n",
      "[20, 40, 60, 80]\n",
      "[20, 50, 80]\n",
      "[80]\n",
      "[30, 40, 50, 60, 70, 80]\n",
      "[30, 40, 50, 60, 70]\n",
      "[30, 50, 70]\n"
     ]
    }
   ],
   "source": [
    "liste = [10, 20, 30, 40, 50, 60, 70, 80]\n",
    "print(liste[3])\n",
    "print(liste[1:5])\n",
    "print(liste[1:5:2])\n",
    "print(liste[1::2])\n",
    "print(liste[1::3])\n",
    "print(liste[-1:])\n",
    "print(liste[-6:])\n",
    "print(liste[-6:-1])\n",
    "print(liste[-6:-1:2])"
   ]
  },
  {
   "cell_type": "code",
   "execution_count": 12,
   "outputs": [
    {
     "name": "stdout",
     "output_type": "stream",
     "text": [
      "    January 2022\n",
      "Mo Tu We Th Fr Sa Su\n",
      "                1  2\n",
      " 3  4  5  6  7  8  9\n",
      "10 11 12 13 14 15 16\n",
      "17 18 19 20 21 22 23\n",
      "24 25 26 27 28 29 30\n",
      "31\n",
      "\n"
     ]
    }
   ],
   "source": [
    "import calendar\n",
    "\n",
    "\n",
    "def get_user_input():\n",
    "    while True:\n",
    "        try:\n",
    "            jahr = int(input(\"Gib das Jahr ein: \"))\n",
    "            break\n",
    "        except ValueError:\n",
    "            print('Die Eingabe muss numerisch sein')\n",
    "    while True:\n",
    "        try:\n",
    "            monat = int(input('Gib den Monat ein: '))\n",
    "            break\n",
    "        except ValueError:\n",
    "            print('Die Eingabe muss numerisch sein')\n",
    "    return jahr, monat\n",
    "\n",
    "\n",
    "blatt = calendar.TextCalendar(calendar.MONDAY)\n",
    "print(blatt.formatmonth(*get_user_input()))"
   ],
   "metadata": {
    "collapsed": false,
    "pycharm": {
     "name": "#%%\n"
    }
   }
  },
  {
   "cell_type": "code",
   "execution_count": 14,
   "outputs": [
    {
     "name": "stdout",
     "output_type": "stream",
     "text": [
      "24. Dezember 2021\n",
      "Nur in Zahlen: 24.12.2021\n",
      "Der 24.12.2021 war ein Freitag!\n"
     ]
    }
   ],
   "source": [
    "from datetime import datetime\n",
    "import locale\n",
    "\n",
    "locale.setlocale(locale.LC_ALL, 'de_DE.UTF-8')\n",
    "d1 = datetime(2021, 12, 24)\n",
    "print(d1.strftime('%d. %B %Y'))\n",
    "print(f\"Nur in Zahlen: {d1.strftime('%d.%m.%Y')}\")\n",
    "print(f\"Der {d1.strftime('%d.%m.%Y'):s} war ein {d1.strftime('%A'):s}!\")"
   ],
   "metadata": {
    "collapsed": false,
    "pycharm": {
     "name": "#%%\n"
    }
   }
  },
  {
   "cell_type": "code",
   "execution_count": null,
   "outputs": [],
   "source": [],
   "metadata": {
    "collapsed": false,
    "pycharm": {
     "name": "#%%\n"
    }
   }
  }
 ],
 "metadata": {
  "kernelspec": {
   "display_name": "Python 3",
   "language": "python",
   "name": "python3"
  },
  "language_info": {
   "codemirror_mode": {
    "name": "ipython",
    "version": 2
   },
   "file_extension": ".py",
   "mimetype": "text/x-python",
   "name": "python",
   "nbconvert_exporter": "python",
   "pygments_lexer": "ipython2",
   "version": "2.7.6"
  }
 },
 "nbformat": 4,
 "nbformat_minor": 0
}