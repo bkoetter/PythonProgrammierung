{
 "cells": [
  {
   "cell_type": "markdown",
   "metadata": {
    "collapsed": true
   },
   "source": [
    "### Zeilenspiele"
   ]
  },
  {
   "cell_type": "code",
   "execution_count": 10,
   "metadata": {},
   "outputs": [
    {
     "name": "stdout",
     "output_type": "stream",
     "text": [
      "9\n",
      "1\n",
      "20\n",
      "1.25\n",
      "1\n",
      "625\n",
      "1.9036539387158786\n"
     ]
    }
   ],
   "source": [
    "print(5 + 4)\n",
    "print(5 - 4)\n",
    "print(5 * 4)\n",
    "print(5 / 4)\n",
    "print(5 % 4)\n",
    "print(5 ** 4)\n",
    "print(5 ** 0.4)"
   ]
  },
  {
   "cell_type": "code",
   "execution_count": 15,
   "metadata": {},
   "outputs": [
    {
     "name": "stdout",
     "output_type": "stream",
     "text": [
      "Das ist ein Test\n"
     ]
    }
   ],
   "source": [
    "print(\"Das ist ein {}\".format(\"Test\"))"
   ]
  },
  {
   "cell_type": "code",
   "execution_count": 22,
   "metadata": {},
   "outputs": [
    {
     "name": "stdout",
     "output_type": "stream",
     "text": [
      "3.146\n"
     ]
    }
   ],
   "source": [
    "num = 3.1459837\n",
    "print(f\"{num:.3f}\")"
   ]
  },
  {
   "cell_type": "code",
   "execution_count": 23,
   "metadata": {},
   "outputs": [
    {
     "name": "stdout",
     "output_type": "stream",
     "text": [
      "Gib deinen Namen ein: Fred\n",
      "Guten Abend Fred\n"
     ]
    }
   ],
   "source": [
    "name = input(\"Gib deinen Namen ein: \")\n",
    "print('Guten Abend', name)"
   ]
  },
  {
   "cell_type": "code",
   "execution_count": 24,
   "metadata": {},
   "outputs": [
    {
     "name": "stdout",
     "output_type": "stream",
     "text": [
      "Gib die erste Zahl ein: 12\n",
      "Gib die zweite Zahl ein: 14\n",
      "Die Summe lautet: 26\n"
     ]
    }
   ],
   "source": [
    "zahl1 = int(input(\"Gib die erste Zahl ein: \"))\n",
    "zahl2 = int(input(\"Gib die zweite Zahl ein: \"))\n",
    "ergebnis = zahl1 + zahl2\n",
    "print(\"Die Summe lautet:\", ergebnis)"
   ]
  }
 ],
 "metadata": {
  "kernelspec": {
   "display_name": "Python 3 (ipykernel)",
   "language": "python",
   "name": "python3"
  },
  "language_info": {
   "codemirror_mode": {
    "name": "ipython",
    "version": 3
   },
   "file_extension": ".py",
   "mimetype": "text/x-python",
   "name": "python",
   "nbconvert_exporter": "python",
   "pygments_lexer": "ipython3",
   "version": "3.8.2"
  }
 },
 "nbformat": 4,
 "nbformat_minor": 1
}
