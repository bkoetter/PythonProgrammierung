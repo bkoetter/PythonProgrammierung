{
 "cells": [
  {
   "cell_type": "code",
   "execution_count": 13,
   "metadata": {
    "collapsed": true
   },
   "outputs": [
    {
     "name": "stdout",
     "output_type": "stream",
     "text": [
      "Du bist der liebenswürdigste Hecht\n",
      "Ich bin froh dich in NRW kennengelernt zu haben\n",
      "Du bist der beste Hecht\n",
      "Ich bin froh dich in der Republik kennengelernt zu haben\n",
      "Du bist der liebenswürdigste Mensch\n",
      "Ich bin froh dich in NRW kennengelernt zu haben\n",
      "Du bist der schönste Kumpel\n",
      "Ich bin froh dich in der Republik kennengelernt zu haben\n",
      "Du bist der grösste Freund\n",
      "Ich bin froh dich in NRW kennengelernt zu haben\n",
      "Du bist der liebenswürdigste Hecht\n",
      "Ich bin froh dich in der Republik kennengelernt zu haben\n",
      "Du bist der grösste Programmierer\n",
      "Ich bin froh dich in der Republik kennengelernt zu haben\n",
      "Du bist der beste Programmierer\n",
      "Ich bin froh dich in der U-Bahn kennengelernt zu haben\n",
      "Du bist der beste Programmierer\n",
      "Ich bin froh dich in der Republik kennengelernt zu haben\n",
      "Du bist der grösste Hecht\n",
      "Ich bin froh dich in NRW kennengelernt zu haben\n"
     ]
    }
   ],
   "source": [
    "from random import choice\n",
    "\n",
    "adjektive = ['beste', 'liebenswürdigste', 'schönste', 'grösste']\n",
    "nomen = ['Mensch', 'Hecht', 'Freund', 'Kumpel', 'Programmierer']\n",
    "orte = ['der Republik', 'Schweden', 'Uganda', 'NRW', 'der U-Bahn']\n",
    "\n",
    "for _ in range(10):\n",
    "    print(f'Du bist der {choice(adjektive)} {choice(nomen)}')\n",
    "    print(f'Ich bin froh dich in {choice(orte)} kennengelernt zu haben')\n"
   ]
  },
  {
   "cell_type": "code",
   "execution_count": 15,
   "outputs": [
    {
     "name": "stdout",
     "output_type": "stream",
     "text": [
      "Fanta verkaufen wir nicht.\n"
     ]
    }
   ],
   "source": [
    "# Teil 1/3\n",
    "getraenke = ('Bier', 'Wein', 'Cola', 'Brause', 'Gin', 'Whisky')\n",
    "eingabe = input('Geben sie ein Getränk ein: ').capitalize()\n",
    "\n",
    "if not eingabe in getraenke:\n",
    "    print(f'{eingabe} verkaufen wir nicht.')\n",
    "else:\n",
    "    print(f'{eingabe} verkaufen wir')\n"
   ],
   "metadata": {
    "collapsed": false,
    "pycharm": {
     "name": "#%%\n"
    }
   }
  },
  {
   "cell_type": "code",
   "execution_count": 18,
   "outputs": [
    {
     "name": "stdout",
     "output_type": "stream",
     "text": [
      "Bier\n",
      "Cola\n",
      "Wasser\n"
     ]
    }
   ],
   "source": [
    "# Teil 2/3\n",
    "liste = (('Bier', 2), ('Whisky', 12), ('Cola', 3), ('Gin', 5), ('Wasser', 1))\n",
    "hoechst_preis = float(input('Bitte Höchstpreis eingeben: '))\n",
    "\n",
    "for i in liste:\n",
    "    if hoechst_preis < i[1]:\n",
    "        continue\n",
    "    print(i[0])"
   ],
   "metadata": {
    "collapsed": false,
    "pycharm": {
     "name": "#%%\n"
    }
   }
  },
  {
   "cell_type": "code",
   "execution_count": null,
   "outputs": [],
   "source": [
    "# Teil 3/3\n",
    "liste = (('Bier', 2), ('Whisky', 12), ('Cola', 3), ('Gin', 5), ('Wasser', 1))\n",
    "\n",
    "for i in liste:\n",
    "    pass\n"
   ],
   "metadata": {
    "collapsed": false,
    "pycharm": {
     "name": "#%%\n"
    }
   }
  },
  {
   "cell_type": "code",
   "execution_count": 27,
   "outputs": [
    {
     "name": "stdout",
     "output_type": "stream",
     "text": [
      "['Max', 'Hans', 'Petra', 'Doris']\n",
      "['Max', 'Hans', 'Petra', 'Doris', 'Moritz']\n",
      "['Max', 'Hans', 'Petra', 'Klaus', 'Doris', 'Moritz']\n",
      "['Max', 'Petra', 'Klaus', 'Doris', 'Moritz']\n",
      "['Doris', 'Klaus', 'Max', 'Moritz', 'Petra']\n",
      "['Doris', 'Klaus', 'Moritz', 'Petra']\n",
      "['Doris', 'Klaus', 'Moritz', 'Petra']\n",
      "Petra Klaus Doris Moritz\n"
     ]
    }
   ],
   "source": [
    "students = ['Max', 'Hans', 'Petra', 'Doris']\n",
    "print(students)\n",
    "students.append('Moritz')\n",
    "print(students)\n",
    "students.insert(3, 'Klaus')\n",
    "print(students)\n",
    "students.remove('Hans')\n",
    "print(students)\n",
    "print(sorted(students))\n",
    "students_new = students\n",
    "students_new.remove('Max')\n",
    "print(sorted(students_new))\n",
    "print(sorted(students))\n",
    "print(\" \".join(students))"
   ],
   "metadata": {
    "collapsed": false,
    "pycharm": {
     "name": "#%%\n"
    }
   }
  },
  {
   "cell_type": "code",
   "execution_count": 30,
   "outputs": [
    {
     "name": "stdout",
     "output_type": "stream",
     "text": [
      "Ungerade Zahl: 1 Gerade: 2\n",
      "Ungerade Zahl: 3 Gerade: 4\n",
      "Ungerade Zahl: 5 Die Zahl ist 5\n"
     ]
    }
   ],
   "source": [
    "for i in range(1, 11):\n",
    "    if not i % 2:\n",
    "        print(f'Gerade: {i}')\n",
    "    else:\n",
    "        print(f'Ungerade Zahl: {i}', end=\" \")\n",
    "    if i == 5:\n",
    "        print(f'Die Zahl ist {i}')\n",
    "        break"
   ],
   "metadata": {
    "collapsed": false,
    "pycharm": {
     "name": "#%%\n"
    }
   }
  },
  {
   "cell_type": "code",
   "execution_count": 34,
   "outputs": [
    {
     "name": "stdout",
     "output_type": "stream",
     "text": [
      "6 + 8 = \n",
      "Richtig. Zahl 14 ist richtig. Super!\n",
      "6 + 4 = \n",
      "Falsch. Zahl 14 stimmt nicht.\n",
      "2 + 1 = \n",
      "Falsch. Zahl 10 stimmt nicht.\n",
      "2 + 4 = \n",
      "Falsch. Zahl 3 stimmt nicht.\n",
      "4 + 3 = \n",
      "Falsch. Zahl 6 stimmt nicht.\n",
      "10 + 2 = \n",
      "Falsch. Zahl 7 stimmt nicht.\n",
      "8 + 7 = \n",
      "Bye, bye...\n"
     ]
    }
   ],
   "source": [
    "# 2021-12-08 - Björn v0.005\n",
    "from random import randint\n",
    "\n",
    "richtig, falsch = 0, 0\n",
    "\n",
    "while True:\n",
    "    try:\n",
    "        a, b = randint(1, 10), randint(1, 10)\n",
    "        c = int(input(f'{a} + {b} = '))\n",
    "    except ValueError:\n",
    "        print('Bye, bye...')\n",
    "        break\n",
    "    else:\n",
    "        if c == a + b:\n",
    "            print(f'Richtig. Zahl {c} ist richtig. Super!')\n",
    "            richtig += 1\n",
    "        else:\n",
    "            print(f'Falsch. Zahl {c} stimmt nicht.')\n",
    "            falsch += 1\n",
    "\n",
    "        if richtig > 5:\n",
    "            print('Gewonnen!')\n",
    "            break\n",
    "\n",
    "print(f'Anzahl richtiger Eingaben: {richtig}')\n",
    "print(f'Anzahl falscher Eingaben: {falsch}')\n"
   ],
   "metadata": {
    "collapsed": false,
    "pycharm": {
     "name": "#%%\n"
    }
   }
  },
  {
   "cell_type": "code",
   "execution_count": 32,
   "outputs": [],
   "source": [],
   "metadata": {
    "collapsed": false,
    "pycharm": {
     "name": "#%%\n"
    }
   }
  },
  {
   "cell_type": "code",
   "execution_count": null,
   "outputs": [],
   "source": [],
   "metadata": {
    "collapsed": false,
    "pycharm": {
     "name": "#%%\n"
    }
   }
  }
 ],
 "metadata": {
  "kernelspec": {
   "display_name": "Python 3",
   "language": "python",
   "name": "python3"
  },
  "language_info": {
   "codemirror_mode": {
    "name": "ipython",
    "version": 2
   },
   "file_extension": ".py",
   "mimetype": "text/x-python",
   "name": "python",
   "nbconvert_exporter": "python",
   "pygments_lexer": "ipython2",
   "version": "2.7.6"
  }
 },
 "nbformat": 4,
 "nbformat_minor": 0
}