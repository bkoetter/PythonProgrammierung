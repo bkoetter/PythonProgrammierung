{
 "cells": [
  {
   "cell_type": "code",
   "execution_count": 4,
   "metadata": {
    "collapsed": true
   },
   "outputs": [
    {
     "name": "stdout",
     "output_type": "stream",
     "text": [
      "{'Peter': 31, 'Julia': 28, 'Werner': 35}\n",
      "{'Peter': 31, 'Julia': 27, 'Werner': 35}\n",
      "{'Peter': 31, 'Julia': 27, 'Werner': 35, 'Moritz': 22}\n",
      "Julia ist 27 Jahre alt\n",
      "27\n",
      "{'Peter': 31, 'Werner': 35, 'Moritz': 22}\n",
      "Nicht enthalten. Julia wird hinzugefügt\n",
      "Anzahl: 4\n"
     ]
    }
   ],
   "source": [
    "\n",
    "\n",
    "alter = {\"Peter\": 31, \"Julia\": 28, \"Werner\": 35}\n",
    "print(alter)\n",
    "alter[\"Julia\"] = 27\n",
    "print(alter)\n",
    "alter[\"Moritz\"] = 22\n",
    "print(alter)\n",
    "print(f'Julia ist {alter[\"Julia\"]} Jahre alt.')\n",
    "\n",
    "if \"Julia\" in alter:\n",
    "    print(alter[\"Julia\"])\n",
    "    del alter[\"Julia\"]\n",
    "\n",
    "print(alter)\n",
    "\n",
    "if \"Julia\" not in alter:\n",
    "    print(\"Nicht enthalten. Julia wird hinzugefügt.\")\n",
    "    alter[\"Julia\"] = 27\n",
    "\n",
    "print(f'Anzahl: {len(alter)}')"
   ]
  },
  {
   "cell_type": "code",
   "execution_count": 6,
   "outputs": [
    {
     "name": "stdout",
     "output_type": "stream",
     "text": [
      "ist gleich\n",
      "'<' not supported between instances of 'dict' and 'dict'\n"
     ]
    }
   ],
   "source": [
    "alter1 = {\"Peter\": 31, \"Julia\": 28, \"Werner\": 35}\n",
    "alter2 = {\"Peter\": 31, \"Julia\": 28, \"Werner\": 35}\n",
    "\n",
    "if alter1 == alter2:\n",
    "    print(\"ist gleich\")\n",
    "\n",
    "try:\n",
    "    if alter1 < alter2:\n",
    "        print(\"alter1 ist kleiner als alter2\")\n",
    "    else:\n",
    "        print(\"alter1 ist nicht kleiner als alter2\")\n",
    "except Exception as err:\n",
    "    print(err)"
   ],
   "metadata": {
    "collapsed": false,
    "pycharm": {
     "name": "#%%\n"
    }
   }
  },
  {
   "cell_type": "code",
   "execution_count": 9,
   "outputs": [
    {
     "name": "stdout",
     "output_type": "stream",
     "text": [
      "Anzahl Keys: 3\n",
      "PeterJuliaWernerWerner ist enthalten und wird jetzt entfernt:\n",
      "Werner ist nicht enthalten\n",
      "\n",
      "Anzahl Werte: 2\n",
      "31\n",
      "28\n",
      "31 ist enthalten\n",
      "31 ist nicht enthalten\n",
      "\n",
      "Anzahl Items: 3\n",
      "('Peter', 41)\n",
      "('Julia', 28)\n",
      "('Franz', 35)\n",
      "Julia, 28 ist enthalten\n"
     ]
    }
   ],
   "source": [
    "alter = {\"Peter\": 31, \"Julia\": 28, \"Werner\": 35}\n",
    "keys = alter.keys()\n",
    "print(\"Anzahl Keys:\", len(keys))\n",
    "for x in keys:\n",
    "    print(x, end=\" \")\n",
    "if \"Werner\" in keys:\n",
    "    print(\"Werner ist enthalten und wird jetzt entfernt:\")\n",
    "    del alter[\"Werner\"]\n",
    "if \"Werner\" not in keys:\n",
    "    print(\"Werner ist nicht enthalten\")\n",
    "print()\n",
    "\n",
    "values = alter.values()\n",
    "print(\"Anzahl Werte:\", len(values))\n",
    "for x in values:\n",
    "    print(x)\n",
    "if 31 in values:\n",
    "    print(\"31 ist enthalten\")\n",
    "alter[\"Peter\"] = 41\n",
    "if 31 not in values:\n",
    "    print(\"31 ist nicht enthalten\")\n",
    "print()\n",
    "\n",
    "items = alter.items()\n",
    "alter[\"Franz\"] = 35\n",
    "print(\"Anzahl Items:\", len(items))\n",
    "for x in items:\n",
    "    print(x)\n",
    "if (\"Julia\", 28) in items:\n",
    "    print(\"Julia, 28 ist enthalten\")"
   ],
   "metadata": {
    "collapsed": false,
    "pycharm": {
     "name": "#%%\n"
    }
   }
  },
  {
   "cell_type": "code",
   "execution_count": 5,
   "outputs": [
    {
     "name": "stdout",
     "output_type": "stream",
     "text": [
      "0 ist keine gültige Zahl. Deine Eingabe muss numerisch sein.\n",
      "0 ist keine gültige Zahl. Deine Eingabe muss numerisch sein.\n",
      "Falsch. Die Hauptstadt von British Indian Ocean Territory ist Diego Garcia. Ein Punkt abgezogen.\n",
      "Du hast -1 erreicht\n"
     ]
    }
   ],
   "source": [
    "# 2021-12-13 Björn v0.0.9\n",
    "# Geografiespiel\n",
    "# https://github.com/Hexxenwerk/PythonProgrammierung/tree/master/Kursdateien%20BK/Day05\n",
    "\n",
    "from random import shuffle\n",
    "from re import match, IGNORECASE\n",
    "\n",
    "from requests import get\n",
    "\n",
    "\n",
    "def get_hauptstadt(count: int):\n",
    "    data = {}\n",
    "    for record in get('https://countriesnow.space/api/v0.1/countries/capital').json()[\"data\"]:\n",
    "        if match('\\s*$', record['capital']):\n",
    "            continue\n",
    "        data[record['name']] = record['capital']\n",
    "\n",
    "    countries = list(data.keys())\n",
    "    shuffle(countries)\n",
    "\n",
    "    return dict((country, data[country]) for country in countries[:count])\n",
    "\n",
    "\n",
    "punkte = 0\n",
    "runden = 0\n",
    "\n",
    "while True:\n",
    "    try:\n",
    "        runden = abs(int(input(\"Wie oft möchtest du Städte raten? \")))\n",
    "        break\n",
    "    except ValueError:\n",
    "        print(f'{runden} ist keine gültige Zahl. Deine Eingabe muss numerisch sein.')\n",
    "\n",
    "while True:\n",
    "    for land, stadt in get_hauptstadt(runden).items():\n",
    "        if input(f'Bitte gib die Hauptstadt von {land} ein: ') == stadt:\n",
    "            print(f'Richtig!! Du bekommst zwei Punkte für {stadt}')\n",
    "            punkte += 2\n",
    "        else:\n",
    "            print(f'Falsch. Die Hauptstadt von {land} ist {stadt}. Ein Punkt abgezogen.')\n",
    "            punkte -= 1\n",
    "\n",
    "    if not match('[Jj]a?$', input(\"Möchtest du noch mal? [j/n]: \"), IGNORECASE):\n",
    "        break\n",
    "\n",
    "print(f'Du hast {punkte} erreicht')"
   ],
   "metadata": {
    "collapsed": false,
    "pycharm": {
     "name": "#%%\n"
    }
   }
  },
  {
   "cell_type": "code",
   "execution_count": null,
   "outputs": [],
   "source": [],
   "metadata": {
    "collapsed": false,
    "pycharm": {
     "name": "#%%\n"
    }
   }
  }
 ],
 "metadata": {
  "kernelspec": {
   "display_name": "Python 3",
   "language": "python",
   "name": "python3"
  },
  "language_info": {
   "codemirror_mode": {
    "name": "ipython",
    "version": 2
   },
   "file_extension": ".py",
   "mimetype": "text/x-python",
   "name": "python",
   "nbconvert_exporter": "python",
   "pygments_lexer": "ipython2",
   "version": "2.7.6"
  }
 },
 "nbformat": 4,
 "nbformat_minor": 0
}