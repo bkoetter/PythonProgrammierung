{
 "cells": [
  {
   "cell_type": "code",
   "execution_count": 4,
   "metadata": {
    "collapsed": true
   },
   "outputs": [
    {
     "name": "stdout",
     "output_type": "stream",
     "text": [
      "{'Peter': 31, 'Julia': 28, 'Werner': 35}\n",
      "{'Peter': 31, 'Julia': 27, 'Werner': 35}\n",
      "{'Peter': 31, 'Julia': 27, 'Werner': 35, 'Moritz': 22}\n",
      "Julia ist 27 Jahre alt\n",
      "27\n",
      "{'Peter': 31, 'Werner': 35, 'Moritz': 22}\n",
      "Nicht enthalten. Julia wird hinzugefügt\n",
      "Anzahl: 4\n"
     ]
    }
   ],
   "source": [
    "alter = {\"Peter\": 31, \"Julia\": 28, \"Werner\": 35}\n",
    "print(alter)\n",
    "alter[\"Julia\"] = 27\n",
    "print(alter)\n",
    "alter[\"Moritz\"] = 22\n",
    "print(alter)\n",
    "print(f'Julia ist {alter[\"Julia\"]} Jahre alt.')\n",
    "\n",
    "if \"Julia\" in alter:\n",
    "    print(alter[\"Julia\"])\n",
    "    del alter[\"Julia\"]\n",
    "\n",
    "print(alter)\n",
    "\n",
    "if \"Julia\" not in alter:\n",
    "    print(\"Nicht enthalten. Julia wird hinzugefügt.\")\n",
    "    alter[\"Julia\"] = 27\n",
    "\n",
    "print(f'Anzahl: {len(alter)}')"
   ]
  },
  {
   "cell_type": "code",
   "execution_count": null,
   "outputs": [],
   "source": [],
   "metadata": {
    "collapsed": false,
    "pycharm": {
     "name": "#%%\n"
    }
   }
  }
 ],
 "metadata": {
  "kernelspec": {
   "display_name": "Python 3",
   "language": "python",
   "name": "python3"
  },
  "language_info": {
   "codemirror_mode": {
    "name": "ipython",
    "version": 2
   },
   "file_extension": ".py",
   "mimetype": "text/x-python",
   "name": "python",
   "nbconvert_exporter": "python",
   "pygments_lexer": "ipython2",
   "version": "2.7.6"
  }
 },
 "nbformat": 4,
 "nbformat_minor": 0
}