{
 "cells": [
  {
   "cell_type": "code",
   "execution_count": 32,
   "metadata": {
    "collapsed": true
   },
   "outputs": [
    {
     "name": "stdout",
     "output_type": "stream",
     "text": [
      "This is my next try: 13.457\n"
     ]
    }
   ],
   "source": [
    "import sys\n",
    "\n",
    "print('This is my next try: {0:0.3f}'.format(13.45678))"
   ]
  },
  {
   "cell_type": "code",
   "source": [
    "we1 = 10\n",
    "we2 = 20\n",
    "print(f\"Wert eins: {we1:5} Wert zwei: {we2:5} Berechnet {we1 * we2:5}\")"
   ],
   "metadata": {
    "collapsed": false,
    "pycharm": {
     "name": "#%%\n"
    }
   },
   "execution_count": null,
   "outputs": []
  },
  {
   "cell_type": "code",
   "execution_count": 21,
   "outputs": [
    {
     "name": "stdout",
     "output_type": "stream",
     "text": [
      "3.14\n"
     ]
    }
   ],
   "source": [
    "pi = 3.14159\n",
    "print(f\"{pi:.2f}\")"
   ],
   "metadata": {
    "collapsed": false,
    "pycharm": {
     "name": "#%%\n"
    }
   }
  },
  {
   "cell_type": "code",
   "execution_count": 35,
   "outputs": [
    {
     "name": "stdout",
     "output_type": "stream",
     "text": [
      "Sie haben keine ganze Zahl eingegeben:12\n",
      "Ende des Programms\n"
     ]
    }
   ],
   "source": [
    "try:\n",
    "    zahl = int(input(\"Bitte eine GANZE Zahl eingeben: \"))\n",
    "    print(f\"Sie haben die ganze Zahl {zahl} richtig eingegeben\")\n",
    "except ValueError:\n",
    "    print(\"Sie haben keine ganze Zahl eingegeben\")\n",
    "print(\"Ende des Programms\")"
   ],
   "metadata": {
    "collapsed": false,
    "pycharm": {
     "name": "#%%\n"
    }
   }
  },
  {
   "cell_type": "code",
   "execution_count": 39,
   "outputs": [
    {
     "name": "stdout",
     "output_type": "stream",
     "text": [
      "Umrechnung von Celsius in Fahrenheit\n",
      "Keine valide Zahl eingegeben\n"
     ]
    }
   ],
   "source": [
    "print(\"Umrechnung von Celsius in Fahrenheit\")\n",
    "try:\n",
    "    temperatur_in_celsius = float(input(\"Geben sie eine Temperatur in Celsius ein:\"))\n",
    "    temperatur_in_fahrenheit = temperatur_in_celsius * 9 / 5 + 32\n",
    "    print(f\"{temperatur_in_celsius} Grad Celsius entsprechen {temperatur_in_fahrenheit} Grad in Fahrenheit\")\n",
    "except ValueError:\n",
    "    print(\"Keine valide Zahl eingegeben\")"
   ],
   "metadata": {
    "collapsed": false,
    "pycharm": {
     "name": "#%%\n"
    }
   }
  },
  {
   "cell_type": "code",
   "execution_count": 49,
   "outputs": [
    {
     "name": "stdout",
     "output_type": "stream",
     "text": [
      "Gefahrene KM und getankte Liter dürfen nicht null sein\n"
     ]
    }
   ],
   "source": [
    "# Björn 2021-11-01 v0.4\n",
    "\n",
    "km, ltr = 0.0, 0.0\n",
    "\n",
    "gefahrene_km = input(\"Gib die gefahrenen KM ein: \")\n",
    "try:\n",
    "    km = float(gefahrene_km)\n",
    "except ValueError:\n",
    "    print(f\"Keine gültige Zahl für KM: {gefahrene_km}\")\n",
    "    sys.exit(1)\n",
    "\n",
    "getankte_ltr = input(\"Gib die getankten Liter ein: \")\n",
    "try:\n",
    "    ltr = float(getankte_ltr)\n",
    "except ValueError:\n",
    "    print(f\"Keine gültige Eingabe für Liter: {getankte_ltr}\")\n",
    "    sys.exit(1)\n",
    "\n",
    "if not km > 0 or not ltr > 0:\n",
    "    print(\"Gefahrene KM und getankte Liter dürfen nicht null sein\")\n",
    "else:\n",
    "    print(f\"Der Durchschnittsverbrauch liegt bei {ltr / km * 100:.2f}\")"
   ],
   "metadata": {
    "collapsed": false,
    "pycharm": {
     "name": "#%%\n"
    }
   }
  },
  {
   "cell_type": "code",
   "execution_count": 51,
   "outputs": [
    {
     "name": "stdout",
     "output_type": "stream",
     "text": [
      "74\n",
      "24\n",
      "69\n",
      "45\n",
      "59\n"
     ]
    }
   ],
   "source": [
    "from random import randint\n",
    "\n",
    "for i in range(5):\n",
    "    print(randint(0, 100))"
   ],
   "metadata": {
    "collapsed": false,
    "pycharm": {
     "name": "#%%\n"
    }
   }
  },
  {
   "cell_type": "code",
   "execution_count": null,
   "outputs": [],
   "source": [],
   "metadata": {
    "collapsed": false,
    "pycharm": {
     "name": "#%%\n"
    }
   }
  }
 ],
 "metadata": {
  "kernelspec": {
   "display_name": "Python 3",
   "language": "python",
   "name": "python3"
  },
  "language_info": {
   "codemirror_mode": {
    "name": "ipython",
    "version": 2
   },
   "file_extension": ".py",
   "mimetype": "text/x-python",
   "name": "python",
   "nbconvert_exporter": "python",
   "pygments_lexer": "ipython2",
   "version": "2.7.6"
  }
 },
 "nbformat": 4,
 "nbformat_minor": 0
}